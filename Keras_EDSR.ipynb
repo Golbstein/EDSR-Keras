{
 "cells": [
  {
   "cell_type": "code",
   "execution_count": 1,
   "metadata": {},
   "outputs": [
    {
     "name": "stderr",
     "output_type": "stream",
     "text": [
      "Using TensorFlow backend.\n"
     ]
    },
    {
     "name": "stdout",
     "output_type": "stream",
     "text": [
      "WARNING:tensorflow:From C:\\Users\\jgolb\\Anaconda3\\lib\\site-packages\\tensorflow\\python\\ops\\init_ops.py:1184: calling VarianceScaling.__init__ (from tensorflow.python.ops.init_ops) with distribution=normal is deprecated and will be removed in a future version.\n",
      "Instructions for updating:\n",
      "`normal` is a deprecated alias for `truncated_normal`\n"
     ]
    }
   ],
   "source": [
    "import cv2\n",
    "import glob\n",
    "import numpy as np\n",
    "import matplotlib.pyplot as plt\n",
    "from keras_tqdm import TQDMNotebookCallback\n",
    "from keras import regularizers\n",
    "from keras.models import load_model, Model\n",
    "from keras.applications.vgg16 import VGG16\n",
    "from keras.layers import Conv2D, Input, Lambda, add, Activation, LeakyReLU\n",
    "from subpixel import *\n",
    "from tqdm import tqdm\n",
    "from keras.callbacks import ModelCheckpoint, TensorBoard\n",
    "from keras.optimizers import Adam\n",
    "from utilities import random_crop, ssim, content_fn, test_edsr\n",
    "%matplotlib inline\n",
    "\n",
    "dtype = 'float32' # 'float16'\n",
    "K.set_floatx(dtype)\n",
    "\n",
    "def vgg_preprocess_input(x):\n",
    "    # BGR Mean values\n",
    "    vgg_mean = np.array([103.939, 116.779, 123.68], dtype=dtype).reshape((1,1,3))\n",
    "    return x - vgg_mean\n",
    "\n",
    "\n",
    "# get output of vgg conv layers function\n",
    "\n",
    "path = './images/'\n",
    "\n",
    "\n",
    "bs = 16\n",
    "scale = 2 # 3 or 4\n",
    "\n",
    "img_size = 48 * scale\n",
    "\n",
    "IMAGES = sorted(glob.glob(path + '*'))"
   ]
  },
  {
   "cell_type": "code",
   "execution_count": 3,
   "metadata": {},
   "outputs": [],
   "source": [
    "def load_train_data(N = np.inf):\n",
    "    '''\n",
    "    N = number of images to return, \n",
    "    if M is the number of images in the folder and N>M then:\n",
    "        return all the images in the folder\n",
    "    '''\n",
    "    x = []\n",
    "    y = []\n",
    "    for k, img in tqdm(enumerate(IMAGES)):\n",
    "        if k>N: break\n",
    "        I = cv2.imread(img)\n",
    "        I = random_crop(I, (img_size,img_size))\n",
    "        y.append(I.copy())\n",
    "        \n",
    "        # Use different downsampling methods\n",
    "        if np.random.randint(2): # x_scale sampling\n",
    "            I = I[::scale, ::scale]\n",
    "        else: #bilinear resizing\n",
    "            I = cv2.resize(I, (img_size//scale, img_size//scale))\n",
    "        x.append(I)\n",
    "        \n",
    "    x = np.stack(x).astype(dtype)\n",
    "    y = np.stack(y).astype(dtype)\n",
    "    return x, y # return HighRes and LowRes images"
   ]
  },
  {
   "cell_type": "code",
   "execution_count": 4,
   "metadata": {},
   "outputs": [
    {
     "name": "stderr",
     "output_type": "stream",
     "text": [
      "98it [00:00, 136.39it/s]\n"
     ]
    }
   ],
   "source": [
    "N = 500\n",
    "x, y = load_train_data(N=N)"
   ]
  },
  {
   "cell_type": "code",
   "execution_count": 3,
   "metadata": {},
   "outputs": [],
   "source": [
    "# Dummy data\n",
    "\n",
    "x = np.random.randint(0, 255, size=(1000, 48, 48, 3)).astype(dtype)\n",
    "y = np.random.randint(0, 255, size=(1000, 48*scale, 48*scale, 3)).astype(dtype)"
   ]
  },
  {
   "cell_type": "code",
   "execution_count": 4,
   "metadata": {},
   "outputs": [],
   "source": [
    "def EDSR(scale = 4, input_shape = (48, 48, 3), n_feats = 256, n_resblocks = 32):\n",
    "    ''' \n",
    "        According to the paper scale can be 2,3 or 4. \n",
    "        However this code supports scale to be 3 or any of 2^n for n>0\n",
    "    '''\n",
    "    def res_block(input_tensor, nf, res_scale = 1.0):\n",
    "        x = Conv2D(nf, (3, 3), padding='same', activation = 'relu', \n",
    "                   activity_regularizer=regularizers.l1(10e-10))(input_tensor)\n",
    "        x = Conv2D(nf, (3, 3), padding='same', activity_regularizer=regularizers.l1(10e-10))(x)\n",
    "        x = Lambda(lambda x: x * res_scale)(x)\n",
    "        x = add([x, input_tensor])\n",
    "        return x\n",
    "    inp = Input(shape = input_shape)\n",
    "    \n",
    "    x = Conv2D(n_feats, 3, padding='same', activity_regularizer=regularizers.l1(10e-10))(inp)\n",
    "    conv1 = x\n",
    "    if n_feats == 256:\n",
    "        res_scale = 0.1\n",
    "    else:\n",
    "        res_scale = 1.0\n",
    "    for i in range(n_resblocks): x = res_block(x, n_feats, res_scale)\n",
    "    x = Conv2D(n_feats, 3, padding='same', activity_regularizer=regularizers.l1(10e-10))(x)\n",
    "    x = add([x, conv1])\n",
    "    \n",
    "    if not scale%2:\n",
    "        for i in range(int(np.log2(scale))):\n",
    "            x = Subpixel(n_feats, 3, 2, padding='same', activity_regularizer=regularizers.l1(10e-10))(x)\n",
    "    else: # scale = 3\n",
    "        x = Subpixel(n_feats, 3, 3, padding='same', activity_regularizer=regularizers.l1(10e-10))(x)\n",
    "    sr = Conv2D(input_shape[-1], 1, padding='same', \n",
    "                activity_regularizer=regularizers.l1(10e-10))(x)\n",
    "            \n",
    "    model = Model(inputs=inp, outputs=sr, name = 'SR')\n",
    "    \"\"\"ICNR initializer for checkerboard artifact free sub pixel convolution\n",
    "        Ref:\n",
    "         [1] Andrew Aitken et al. Checkerboard artifact free sub-pixel convolution\n",
    "         https://arxiv.org/pdf/1707.02937.pdf)\n",
    "    \"\"\"\n",
    "    for layer in model.layers:\n",
    "        if type(layer) == Subpixel:\n",
    "            c, b = layer.get_weights()\n",
    "            if scale == 3:\n",
    "                w = icnr_weights(scale=3, shape=c.shape)\n",
    "            else:\n",
    "                w = icnr_weights(scale=2, shape=c.shape)\n",
    "            layer.set_weights([w, b])\n",
    "    return model"
   ]
  },
  {
   "cell_type": "code",
   "execution_count": 5,
   "metadata": {},
   "outputs": [],
   "source": [
    "edsr_model = EDSR(scale = scale, input_shape = (x.shape[1], x.shape[2], x.shape[3]), \n",
    "                  n_feats = 256, n_resblocks = 32)"
   ]
  },
  {
   "cell_type": "markdown",
   "metadata": {},
   "source": [
    "### EDSR paper's implementation"
   ]
  },
  {
   "cell_type": "code",
   "execution_count": 6,
   "metadata": {
    "scrolled": true
   },
   "outputs": [
    {
     "data": {
      "application/vnd.jupyter.widget-view+json": {
       "model_id": "0e0e2531549b469fa3720f51c2422904",
       "version_major": 2,
       "version_minor": 0
      },
      "text/plain": [
       "HBox(children=(IntProgress(value=0, description='Training', max=10, style=ProgressStyle(description_width='ini…"
      ]
     },
     "metadata": {},
     "output_type": "display_data"
    },
    {
     "data": {
      "application/vnd.jupyter.widget-view+json": {
       "model_id": "",
       "version_major": 2,
       "version_minor": 0
      },
      "text/plain": [
       "HBox(children=(IntProgress(value=0, description='Epoch 0', max=501, style=ProgressStyle(description_width='ini…"
      ]
     },
     "metadata": {},
     "output_type": "display_data"
    },
    {
     "name": "stdout",
     "output_type": "stream",
     "text": [
      "\n",
      "Epoch 00001: loss improved from inf to 29.58203, saving model to sr_x2.h5\n"
     ]
    },
    {
     "data": {
      "application/vnd.jupyter.widget-view+json": {
       "model_id": "",
       "version_major": 2,
       "version_minor": 0
      },
      "text/plain": [
       "HBox(children=(IntProgress(value=0, description='Epoch 1', max=501, style=ProgressStyle(description_width='ini…"
      ]
     },
     "metadata": {},
     "output_type": "display_data"
    },
    {
     "name": "stdout",
     "output_type": "stream",
     "text": [
      "\n",
      "Epoch 00002: loss improved from 29.58203 to 13.19218, saving model to sr_x2.h5\n"
     ]
    },
    {
     "data": {
      "application/vnd.jupyter.widget-view+json": {
       "model_id": "",
       "version_major": 2,
       "version_minor": 0
      },
      "text/plain": [
       "HBox(children=(IntProgress(value=0, description='Epoch 2', max=501, style=ProgressStyle(description_width='ini…"
      ]
     },
     "metadata": {},
     "output_type": "display_data"
    },
    {
     "name": "stdout",
     "output_type": "stream",
     "text": [
      "\n",
      "Epoch 00003: loss improved from 13.19218 to 11.36176, saving model to sr_x2.h5\n"
     ]
    },
    {
     "data": {
      "application/vnd.jupyter.widget-view+json": {
       "model_id": "",
       "version_major": 2,
       "version_minor": 0
      },
      "text/plain": [
       "HBox(children=(IntProgress(value=0, description='Epoch 3', max=501, style=ProgressStyle(description_width='ini…"
      ]
     },
     "metadata": {},
     "output_type": "display_data"
    },
    {
     "name": "stdout",
     "output_type": "stream",
     "text": [
      "\n",
      "Epoch 00004: loss improved from 11.36176 to 11.14369, saving model to sr_x2.h5\n"
     ]
    },
    {
     "data": {
      "application/vnd.jupyter.widget-view+json": {
       "model_id": "",
       "version_major": 2,
       "version_minor": 0
      },
      "text/plain": [
       "HBox(children=(IntProgress(value=0, description='Epoch 4', max=501, style=ProgressStyle(description_width='ini…"
      ]
     },
     "metadata": {},
     "output_type": "display_data"
    },
    {
     "name": "stdout",
     "output_type": "stream",
     "text": [
      "\n",
      "Epoch 00005: loss improved from 11.14369 to 10.73595, saving model to sr_x2.h5\n"
     ]
    },
    {
     "data": {
      "application/vnd.jupyter.widget-view+json": {
       "model_id": "",
       "version_major": 2,
       "version_minor": 0
      },
      "text/plain": [
       "HBox(children=(IntProgress(value=0, description='Epoch 5', max=501, style=ProgressStyle(description_width='ini…"
      ]
     },
     "metadata": {},
     "output_type": "display_data"
    },
    {
     "name": "stdout",
     "output_type": "stream",
     "text": [
      "\n",
      "Epoch 00006: loss improved from 10.73595 to 10.14275, saving model to sr_x2.h5\n"
     ]
    },
    {
     "data": {
      "application/vnd.jupyter.widget-view+json": {
       "model_id": "",
       "version_major": 2,
       "version_minor": 0
      },
      "text/plain": [
       "HBox(children=(IntProgress(value=0, description='Epoch 6', max=501, style=ProgressStyle(description_width='ini…"
      ]
     },
     "metadata": {},
     "output_type": "display_data"
    },
    {
     "name": "stdout",
     "output_type": "stream",
     "text": [
      "\n",
      "Epoch 00007: loss did not improve from 10.14275\n"
     ]
    },
    {
     "data": {
      "application/vnd.jupyter.widget-view+json": {
       "model_id": "",
       "version_major": 2,
       "version_minor": 0
      },
      "text/plain": [
       "HBox(children=(IntProgress(value=0, description='Epoch 7', max=501, style=ProgressStyle(description_width='ini…"
      ]
     },
     "metadata": {},
     "output_type": "display_data"
    },
    {
     "name": "stdout",
     "output_type": "stream",
     "text": [
      "\n",
      "Epoch 00008: loss did not improve from 10.14275\n"
     ]
    },
    {
     "data": {
      "application/vnd.jupyter.widget-view+json": {
       "model_id": "",
       "version_major": 2,
       "version_minor": 0
      },
      "text/plain": [
       "HBox(children=(IntProgress(value=0, description='Epoch 8', max=501, style=ProgressStyle(description_width='ini…"
      ]
     },
     "metadata": {},
     "output_type": "display_data"
    },
    {
     "name": "stdout",
     "output_type": "stream",
     "text": [
      "\n",
      "Epoch 00009: loss improved from 10.14275 to 9.70130, saving model to sr_x2.h5\n"
     ]
    },
    {
     "data": {
      "application/vnd.jupyter.widget-view+json": {
       "model_id": "",
       "version_major": 2,
       "version_minor": 0
      },
      "text/plain": [
       "HBox(children=(IntProgress(value=0, description='Epoch 9', max=501, style=ProgressStyle(description_width='ini…"
      ]
     },
     "metadata": {},
     "output_type": "display_data"
    },
    {
     "name": "stdout",
     "output_type": "stream",
     "text": [
      "\n",
      "Epoch 00010: loss improved from 9.70130 to 9.61424, saving model to sr_x2.h5\n",
      "\n"
     ]
    },
    {
     "data": {
      "text/plain": [
       "<keras.callbacks.History at 0x7f0dcaca7d68>"
      ]
     },
     "execution_count": 6,
     "metadata": {},
     "output_type": "execute_result"
    }
   ],
   "source": [
    "edsr_model.compile(Adam(lr=5e-5, decay=0.9, epsilon=1e-4), loss='mae', metrics=[ssim])\n",
    "\n",
    "checkpointer = ModelCheckpoint(filepath = 'sr_x{}.h5'.format(scale), verbose=1, \n",
    "                               save_best_only=True, save_weights_only=True,\n",
    "                               monitor = 'loss')\n",
    "\n",
    "callbacks = [TQDMNotebookCallback(), checkpointer, \n",
    "             TensorBoard()]\n",
    "\n",
    "edsr_model.fit(x, y, batch_size=16, epochs=10,\n",
    "               verbose=0, initial_epoch = 0, callbacks=callbacks)"
   ]
  },
  {
   "cell_type": "code",
   "execution_count": 23,
   "metadata": {},
   "outputs": [
    {
     "data": {
      "image/png": "[encoded data removed]",
      "text/plain": [
       "<Figure size 720x720 with 2 Axes>"
      ]
     },
     "metadata": {},
     "output_type": "display_data"
    }
   ],
   "source": [
    "test_edsr(edsr_model, x[25][:,:,::-1])"
   ]
  },
  {
   "cell_type": "markdown",
   "metadata": {},
   "source": [
    "### EDSR With MAE and Perceptual Loss (VGG16)"
   ]
  },
  {
   "cell_type": "code",
   "execution_count": 24,
   "metadata": {
    "scrolled": true
   },
   "outputs": [
    {
     "data": {
      "application/vnd.jupyter.widget-view+json": {
       "model_id": "bf4af4065eb8447289f11328e40c4a5c",
       "version_major": 2,
       "version_minor": 0
      },
      "text/plain": [
       "HBox(children=(IntProgress(value=0, description='Training', max=10, style=ProgressStyle(description_width='ini…"
      ]
     },
     "metadata": {},
     "output_type": "display_data"
    },
    {
     "data": {
      "application/vnd.jupyter.widget-view+json": {
       "model_id": "",
       "version_major": 2,
       "version_minor": 0
      },
      "text/plain": [
       "HBox(children=(IntProgress(value=0, description='Epoch 0', max=501, style=ProgressStyle(description_width='ini…"
      ]
     },
     "metadata": {},
     "output_type": "display_data"
    },
    {
     "name": "stdout",
     "output_type": "stream",
     "text": [
      "\n",
      "Epoch 00001: loss improved from inf to 34.24871, saving model to sr_multi_loss_x2.h5\n"
     ]
    },
    {
     "data": {
      "application/vnd.jupyter.widget-view+json": {
       "model_id": "",
       "version_major": 2,
       "version_minor": 0
      },
      "text/plain": [
       "HBox(children=(IntProgress(value=0, description='Epoch 1', max=501, style=ProgressStyle(description_width='ini…"
      ]
     },
     "metadata": {},
     "output_type": "display_data"
    },
    {
     "name": "stdout",
     "output_type": "stream",
     "text": [
      "\n",
      "Epoch 00002: loss improved from 34.24871 to 27.99718, saving model to sr_multi_loss_x2.h5\n"
     ]
    },
    {
     "data": {
      "application/vnd.jupyter.widget-view+json": {
       "model_id": "",
       "version_major": 2,
       "version_minor": 0
      },
      "text/plain": [
       "HBox(children=(IntProgress(value=0, description='Epoch 2', max=501, style=ProgressStyle(description_width='ini…"
      ]
     },
     "metadata": {},
     "output_type": "display_data"
    },
    {
     "name": "stdout",
     "output_type": "stream",
     "text": [
      "\n",
      "Epoch 00003: loss improved from 27.99718 to 26.93084, saving model to sr_multi_loss_x2.h5\n"
     ]
    },
    {
     "data": {
      "application/vnd.jupyter.widget-view+json": {
       "model_id": "",
       "version_major": 2,
       "version_minor": 0
      },
      "text/plain": [
       "HBox(children=(IntProgress(value=0, description='Epoch 3', max=501, style=ProgressStyle(description_width='ini…"
      ]
     },
     "metadata": {},
     "output_type": "display_data"
    },
    {
     "name": "stdout",
     "output_type": "stream",
     "text": [
      "\n",
      "Epoch 00004: loss improved from 26.93084 to 25.30946, saving model to sr_multi_loss_x2.h5\n"
     ]
    },
    {
     "data": {
      "application/vnd.jupyter.widget-view+json": {
       "model_id": "",
       "version_major": 2,
       "version_minor": 0
      },
      "text/plain": [
       "HBox(children=(IntProgress(value=0, description='Epoch 4', max=501, style=ProgressStyle(description_width='ini…"
      ]
     },
     "metadata": {},
     "output_type": "display_data"
    },
    {
     "name": "stdout",
     "output_type": "stream",
     "text": [
      "\n",
      "Epoch 00005: loss improved from 25.30946 to 24.81123, saving model to sr_multi_loss_x2.h5\n"
     ]
    },
    {
     "data": {
      "application/vnd.jupyter.widget-view+json": {
       "model_id": "",
       "version_major": 2,
       "version_minor": 0
      },
      "text/plain": [
       "HBox(children=(IntProgress(value=0, description='Epoch 5', max=501, style=ProgressStyle(description_width='ini…"
      ]
     },
     "metadata": {},
     "output_type": "display_data"
    },
    {
     "name": "stdout",
     "output_type": "stream",
     "text": [
      "\n",
      "Epoch 00006: loss improved from 24.81123 to 24.43220, saving model to sr_multi_loss_x2.h5\n"
     ]
    },
    {
     "data": {
      "application/vnd.jupyter.widget-view+json": {
       "model_id": "",
       "version_major": 2,
       "version_minor": 0
      },
      "text/plain": [
       "HBox(children=(IntProgress(value=0, description='Epoch 6', max=501, style=ProgressStyle(description_width='ini…"
      ]
     },
     "metadata": {},
     "output_type": "display_data"
    },
    {
     "name": "stdout",
     "output_type": "stream",
     "text": [
      "\n",
      "Epoch 00007: loss improved from 24.43220 to 23.98002, saving model to sr_multi_loss_x2.h5\n"
     ]
    },
    {
     "data": {
      "application/vnd.jupyter.widget-view+json": {
       "model_id": "",
       "version_major": 2,
       "version_minor": 0
      },
      "text/plain": [
       "HBox(children=(IntProgress(value=0, description='Epoch 7', max=501, style=ProgressStyle(description_width='ini…"
      ]
     },
     "metadata": {},
     "output_type": "display_data"
    },
    {
     "name": "stdout",
     "output_type": "stream",
     "text": [
      "\n",
      "Epoch 00008: loss did not improve from 23.98002\n"
     ]
    },
    {
     "data": {
      "application/vnd.jupyter.widget-view+json": {
       "model_id": "",
       "version_major": 2,
       "version_minor": 0
      },
      "text/plain": [
       "HBox(children=(IntProgress(value=0, description='Epoch 8', max=501, style=ProgressStyle(description_width='ini…"
      ]
     },
     "metadata": {},
     "output_type": "display_data"
    },
    {
     "name": "stdout",
     "output_type": "stream",
     "text": [
      "\n",
      "Epoch 00009: loss improved from 23.98002 to 23.76163, saving model to sr_multi_loss_x2.h5\n"
     ]
    },
    {
     "data": {
      "application/vnd.jupyter.widget-view+json": {
       "model_id": "",
       "version_major": 2,
       "version_minor": 0
      },
      "text/plain": [
       "HBox(children=(IntProgress(value=0, description='Epoch 9', max=501, style=ProgressStyle(description_width='ini…"
      ]
     },
     "metadata": {},
     "output_type": "display_data"
    },
    {
     "name": "stdout",
     "output_type": "stream",
     "text": [
      "\n",
      "Epoch 00010: loss improved from 23.76163 to 23.53646, saving model to sr_multi_loss_x2.h5\n",
      "\n"
     ]
    },
    {
     "data": {
      "text/plain": [
       "<keras.callbacks.History at 0x7f094ca6bac8>"
      ]
     },
     "execution_count": 24,
     "metadata": {},
     "output_type": "execute_result"
    }
   ],
   "source": [
    "edsr_model = EDSR(scale = scale, input_shape = (x.shape[1], x.shape[2], x.shape[3]), \n",
    "                  n_feats = 256, n_resblocks = 32)\n",
    "\n",
    "HR = Input((y.shape[1], y.shape[2], y.shape[3]), name = 'HR')\n",
    "LR = Input((x.shape[1], x.shape[2], x.shape[3]), name = 'LR')\n",
    "SR = edsr_model(LR)\n",
    "\n",
    "vgg = VGG16(include_top=False, weights='imagenet', \n",
    "            input_tensor=Lambda(vgg_preprocess_input)(HR))\n",
    "for l in vgg.layers: l.trainable = False\n",
    "\n",
    "\n",
    "# get perceptual\\content outputs\n",
    "\n",
    "def get_output(m, ln): return m.get_layer('block{}_conv2'.format(ln)).output\n",
    "\n",
    "vgg_content = Model(HR, [get_output(vgg, o) for o in [1,2,3]], name = 'Partial-VGG16')\n",
    "vgg1 = vgg_content(HR) # content of HR\n",
    "vgg2 = vgg_content(SR) # content of SR\n",
    "\n",
    "\n",
    "# Create Perceptual Loss\n",
    "loss_con = Lambda(content_fn, name = 'Content')(vgg1+vgg2)\n",
    "\n",
    "\n",
    "model = Model([LR, HR], [SR, loss_con])\n",
    "losses = ['SR', 'Content']\n",
    "weights = [1., 0.1]\n",
    "\n",
    "checkpointer = ModelCheckpoint(filepath = 'sr_multi_loss_x{}.h5'.format(scale), verbose=1, \n",
    "                               save_best_only=True, save_weights_only=True,\n",
    "                               monitor = 'loss')\n",
    "\n",
    "callbacks = [TQDMNotebookCallback(), checkpointer, TensorBoard()]\n",
    "\n",
    "model.compile(Adam(lr=1e-4), loss = {loss : 'mae' for loss in losses}, loss_weights = weights, metrics={'SR' : ssim})\n",
    "vgg_loss_target = targ = np.zeros((len(x), 1), dtype=dtype)\n",
    "\n",
    "model.fit([x, y], [y, vgg_loss_target], batch_size=1, epochs=10, \n",
    "               verbose=0, initial_epoch = 0, callbacks=callbacks)"
   ]
  },
  {
   "cell_type": "code",
   "execution_count": 25,
   "metadata": {},
   "outputs": [
    {
     "data": {
      "image/png": "[encoded data removed]",
      "text/plain": [
       "<Figure size 720x720 with 2 Axes>"
      ]
     },
     "metadata": {},
     "output_type": "display_data"
    }
   ],
   "source": [
    "test_edsr(edsr_model, x[25])"
   ]
  }
 ],
 "metadata": {
  "kernelspec": {
   "display_name": "Python 3",
   "language": "python",
   "name": "python3"
  },
  "language_info": {
   "codemirror_mode": {
    "name": "ipython",
    "version": 3
   },
   "file_extension": ".py",
   "mimetype": "text/x-python",
   "name": "python",
   "nbconvert_exporter": "python",
   "pygments_lexer": "ipython3",
   "version": "3.6.5"
  }
 },
 "nbformat": 4,
 "nbformat_minor": 2
}
